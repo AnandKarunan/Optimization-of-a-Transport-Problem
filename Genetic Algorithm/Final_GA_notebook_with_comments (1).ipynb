{
 "cells": [
  {
   "cell_type": "markdown",
   "metadata": {
    "deletable": true,
    "editable": true
   },
   "source": [
    "### Imports"
   ]
  },
  {
   "cell_type": "code",
   "execution_count": 33,
   "metadata": {
    "collapsed": true,
    "deletable": true,
    "editable": true
   },
   "outputs": [],
   "source": [
    "import numpy as np\n",
    "import random \n",
    "import math\n",
    "import time"
   ]
  },
  {
   "cell_type": "markdown",
   "metadata": {
    "deletable": true,
    "editable": true
   },
   "source": [
    "### Functions"
   ]
  },
  {
   "cell_type": "markdown",
   "metadata": {
    "deletable": true,
    "editable": true
   },
   "source": [
    "- **Distance Function** : Returns the distance between two points if its co-ordinates are given"
   ]
  },
  {
   "cell_type": "code",
   "execution_count": 34,
   "metadata": {
    "collapsed": true,
    "deletable": true,
    "editable": true
   },
   "outputs": [],
   "source": [
    "def find_distance(x1,x2,y1,y2):\n",
    "    return math.sqrt((x1-x2)**2+(y1-y2)**2)"
   ]
  },
  {
   "cell_type": "markdown",
   "metadata": {
    "deletable": true,
    "editable": true
   },
   "source": [
    "- **Cost Function** : Returns the cost matrix where Cij denotes the amount of water transported from Si to Dj multiplied with the distance between them"
   ]
  },
  {
   "cell_type": "code",
   "execution_count": 35,
   "metadata": {
    "collapsed": true,
    "deletable": true,
    "editable": true
   },
   "outputs": [],
   "source": [
    "def find_cost(supply_coords,demand_coords):\n",
    "    cost = np.zeros((len(supply_coords),len(demand_coords)))\n",
    "    for i in range(len(supply_coords)):\n",
    "        for j in range(len(demand_coords)):\n",
    "            cost[i,j] = find_distance(supply_coords[i][0],demand_coords[j][0],supply_coords[i][1],demand_coords[j][1])\n",
    "    return cost"
   ]
  },
  {
   "cell_type": "markdown",
   "metadata": {
    "deletable": true,
    "editable": true
   },
   "source": [
    "- **Bubble Sort** : Returns the sorted list in ascending order based on their cost"
   ]
  },
  {
   "cell_type": "code",
   "execution_count": 36,
   "metadata": {
    "collapsed": true,
    "deletable": true,
    "editable": true
   },
   "outputs": [],
   "source": [
    "def bubble_sort(arrx,cost):\n",
    "    parents = []\n",
    "    for i in range(len(arrx)):\n",
    "        parents.append(arrx[i][1])\n",
    "    swapped = True\n",
    "    while swapped:\n",
    "        swapped = False\n",
    "        for i in range(len(arrx) - 1):\n",
    "            if arrx[i][0] > arrx[i + 1][0]:\n",
    "                arrx[i], arrx[i + 1] = arrx[i + 1], arrx[i]\n",
    "                parents[i],parents[i+1] = parents[i+1],parents[i]\n",
    "                swapped = True\n",
    "    final = []\n",
    "    for i in range(len(parents)):\n",
    "        final.append([np.sum(cost*parents[i]),parents[i]])\n",
    "    return final"
   ]
  },
  {
   "cell_type": "markdown",
   "metadata": {
    "deletable": true,
    "editable": true
   },
   "source": [
    "- **Initialize Parent Generation** : Initiates 'population' number of members in the parent generation randomly "
   ]
  },
  {
   "cell_type": "code",
   "execution_count": 37,
   "metadata": {
    "collapsed": true,
    "deletable": true,
    "editable": true
   },
   "outputs": [],
   "source": [
    "def init_Parent_Gen(population,num_supply,num_demand,source,dest,cost):\n",
    "    # We have used the method given in Page 281 of Genetic Algorithms and Engineering Design Book.\n",
    "    pi = []\n",
    "    for i in range(1,num_supply*num_demand+1):\n",
    "        pi.append(i)  \n",
    "    parents= []\n",
    "    \n",
    "    # This function generates population number of species in the initial generation\n",
    "    for p in range(population):\n",
    "        X = np.zeros((num_supply,num_demand))\n",
    "        s = source.copy()\n",
    "        d = dest.copy()\n",
    "        test = pi.copy()              # A list containing values from 1 to number of grids in the transportation matrix is made.\n",
    "        while(len(test)!=0):\n",
    "            k = random.choice(test)   # A random number is selected from this list\n",
    "            i = int(((k-1)/len(d)))   # Using the following formula and the random number, we find row and column index\n",
    "            j = ((k-1)%len(d)) \n",
    "            X[i,j] = min(s[i],d[j])   # We assign the minimum value of the corresponding source value or demand value to that box\n",
    "            s[i] = s[i] - X[i,j]      # The source and demand are updated so that constraints are satisfied\n",
    "            d[j] = d[j] - X[i,j]\n",
    "            test.remove(k)            # The random number is removed from the list\n",
    "        parents.append([np.sum(cost*X),X])   \n",
    "    return parents"
   ]
  },
  {
   "cell_type": "markdown",
   "metadata": {
    "deletable": true,
    "editable": true
   },
   "source": [
    "- **Remove copies in the generation**"
   ]
  },
  {
   "cell_type": "code",
   "execution_count": 38,
   "metadata": {
    "collapsed": true,
    "deletable": true,
    "editable": true
   },
   "outputs": [],
   "source": [
    "def remove_copies(parents):\n",
    "    \n",
    "    # This function assumes that it gets a sorted list in the format[[cost,parents],...]\n",
    "    x = []\n",
    "    final = []\n",
    "    \n",
    "    # If the previous cost and current cost is same, that parent is not selected to the list returned.\n",
    "    for i in range(len(parents)):\n",
    "        x.append(parents[i][0])\n",
    "        if i==0:\n",
    "            final.append(parents[i])\n",
    "        if i!=0 and x[i]!=x[i-1]:\n",
    "            final.append(parents[i])\n",
    "    return final"
   ]
  },
  {
   "cell_type": "markdown",
   "metadata": {
    "deletable": true,
    "editable": true
   },
   "source": [
    "- **Roulette's selection** : Probabilistic approach to select parents"
   ]
  },
  {
   "cell_type": "code",
   "execution_count": 39,
   "metadata": {
    "collapsed": true,
    "deletable": true,
    "editable": true
   },
   "outputs": [],
   "source": [
    "def selection(parents):\n",
    "    # F is the total fitness\n",
    "    F = 0\n",
    "    for i in range(len(parents)):\n",
    "        F = F+ parents[i][0]\n",
    "        \n",
    "    # prb contains the probability of selecting the points\n",
    "    prb = []\n",
    "    for i in range(len(parents)):\n",
    "        prb.append((F- parents[i][0])/(F*(len(parents)-1)))\n",
    "        \n",
    "    # cum_prb is the cumulative probability\n",
    "    cum_prb = []\n",
    "    for i in range(len(prb)):\n",
    "        if i==0:\n",
    "            cum_prb.append(prb[i])\n",
    "        else:\n",
    "            cum_prb.append(cum_prb[-1]+prb[i])\n",
    "            \n",
    "    # we generate a random number r and find the interval of cumulative probability \n",
    "    # in which the r lies\n",
    "    r = random.random()\n",
    "    error = 1\n",
    "    e_ind = 1\n",
    "    for i in range(len(cum_prb)):\n",
    "        if error>abs(cum_prb[i]-r):\n",
    "            error=abs(cum_prb[i]-r)\n",
    "            e_ind = i\n",
    "    return parents[e_ind][1]"
   ]
  },
  {
   "cell_type": "markdown",
   "metadata": {
    "deletable": true,
    "editable": true
   },
   "source": [
    "- **Crossover**"
   ]
  },
  {
   "cell_type": "code",
   "execution_count": 40,
   "metadata": {
    "collapsed": true,
    "deletable": true,
    "editable": true
   },
   "outputs": [],
   "source": [
    "def crossover(p,q,num_supply,num_demand,cost):\n",
    "    \n",
    "    # Refer paper of the book mentioned earlier to see mathematical method used here.\n",
    "    \n",
    "    # We define and make D and R matrices according to their formulas \n",
    "    D = np.zeros((num_supply,num_demand))\n",
    "    R = np.zeros((num_supply,num_demand))\n",
    "    for i in range(num_supply):\n",
    "        for j in range(num_demand):\n",
    "            D[i,j] = int((p[i,j]+q[i,j])/2)\n",
    "            R[i,j] = (p[i,j]+q[i,j])%2\n",
    "    \n",
    "    # now we have to split R into R1 and R2. The following variables helps to keep a \n",
    "    # check on the horizontal and vertical sum constraints of R1 and R2\n",
    "    horP_sum = np.sum(p,axis=1)\n",
    "    verP_sum = np.sum(q,axis=0)\n",
    "    R_dash = []\n",
    "    R_costs = []\n",
    "    \n",
    "    # A modified method used for initializing parent generation is used to find R1 and R2 satisfying the constraints\n",
    "    # This loop breaks when R1 and R2 are found. In case we are not able to split R into two, the loop runs for 100 times.\n",
    "    for i in range(100):\n",
    "        A = np.zeros((num_supply,num_demand))\n",
    "        test = []\n",
    "        s = np.sum(R/2,axis=1)\n",
    "        d = np.sum(R/2,axis=0)\n",
    "        for i in range(1,len(s)*len(d)+1):\n",
    "            test.append(i)\n",
    "        while(len(test)!=0):\n",
    "            k = random.choice(test)\n",
    "            i = int(((k-1)/len(d)))\n",
    "            j = ((k-1)%len(d))\n",
    "            A[i,j]=0\n",
    "            if s[i]!=0 and d[j]!=0:\n",
    "                    A[i,j] = 1\n",
    "                    s[i] = s[i]-1\n",
    "                    d[j]= d[j]-1\n",
    "            if np.sum(D+A,axis=1)[i]>horP_sum[i]: #Additional checks so that R1 and R2's constraints are satisfied\n",
    "                if np.sum(D+A,axis=0)[j]>verP_sum[j]:\n",
    "                    A[i,j] = 0\n",
    "            test.remove(k)\n",
    "        if np.sum(cost*A) not in R_costs:\n",
    "            R_costs.append(np.sum(cost*A))\n",
    "            R_dash.append(A)\n",
    "        if len(R_dash)==2:\n",
    "            break\n",
    "            \n",
    "    # If flag is 0, that means we were not able to split R into 2, and hence only one offspring is formed.\n",
    "    # If flag is 1, two offsprings are generated\n",
    "    flag = 0\n",
    "    X1 = D+R_dash[0]\n",
    "    if len(R_dash)>1:\n",
    "        X2 = D+R_dash[1]\n",
    "        flag = 1\n",
    "        return X1,X2,flag\n",
    "    else:\n",
    "        return X1,X1,flag"
   ]
  },
  {
   "cell_type": "markdown",
   "metadata": {
    "deletable": true,
    "editable": true
   },
   "source": [
    "- **Mutation** "
   ]
  },
  {
   "cell_type": "code",
   "execution_count": 41,
   "metadata": {
    "collapsed": true,
    "deletable": true,
    "editable": true
   },
   "outputs": [],
   "source": [
    "def mutate(a):\n",
    "    # Refer paper of the book mentioned earlier to see mathematical method used here.\n",
    "    \n",
    "    # we select random number of rows and columns from the parent\n",
    "    # For this the number of rows and columns are first figured out.\n",
    "    n_rows, n_cols = random.randint(2,a.shape[0]),random.randint(2,a.shape[1])\n",
    "    \n",
    "    # Now the row and column indexes are figured out\n",
    "    row = []\n",
    "    col = []\n",
    "    while len(row)<n_rows:\n",
    "        x = random.randint(0,a.shape[0]-1)\n",
    "        if x not in row:\n",
    "            row.append(x)\n",
    "    while len(col)<n_cols:\n",
    "        x = random.randint(0,a.shape[1]-1)\n",
    "        if x not in col:\n",
    "            col.append(x)\n",
    "    row.sort()\n",
    "    col.sort()\n",
    "    \n",
    "    # The values corresponding to the row and column indexes is made into A\n",
    "    A = np.zeros((n_rows,n_cols))\n",
    "    \n",
    "    # Here we again employ the method used in init_parents to find different combinations of the A matrix such that the\n",
    "    # row sum and column sum remain the same.\n",
    "    \n",
    "    s = np.sum(a[np.ix_(row,col)],axis=1)\n",
    "    d = np.sum(a[np.ix_(row,col)],axis=0)   \n",
    "    test = []\n",
    "    for i in range(1,len(s)*len(d)+1):\n",
    "        test.append(i)    \n",
    "    while(len(test)!=0):\n",
    "        k = random.choice(test)\n",
    "        i = int(((k-1)/len(d)))\n",
    "        j = ((k-1)%len(d)) \n",
    "        A[i,j] = min(s[i],d[j])\n",
    "        s[i] = s[i] - A[i,j]\n",
    "        d[j] = d[j] - A[i,j]\n",
    "        test.remove(k) \n",
    "    \n",
    "    # Finally the Mutated matrix A is combined with the original matrix and returned\n",
    "    row_itr = 0\n",
    "    col_itr = 0\n",
    "    for i in row:\n",
    "        for j in col:\n",
    "            a[i,j] = A[row_itr,col_itr]            \n",
    "            col_itr = col_itr+1\n",
    "        row_itr = row_itr+1\n",
    "        col_itr=0\n",
    "    return a"
   ]
  },
  {
   "cell_type": "markdown",
   "metadata": {
    "deletable": true,
    "editable": true
   },
   "source": [
    "- **CROSSOVER MAIN LOOP** : Give offsprings from nth generation using crossover function"
   ]
  },
  {
   "cell_type": "code",
   "execution_count": 42,
   "metadata": {
    "collapsed": true,
    "deletable": true,
    "editable": true
   },
   "outputs": [],
   "source": [
    "def do_cross(copy_parents,cross_num,num_supply,num_demand,cost,source,dest):\n",
    "    \n",
    "    # This function controls the crossover loop\n",
    "    offsprings = []\n",
    "    parents = add_or_remove(copy_parents,1,cost)\n",
    "    \n",
    "    # n is the number of parents to be selected for crossover calculated using cross_num*population\n",
    "    n = int(cross_num*len(copy_parents))\n",
    "    while n!=1 and n!=0:\n",
    "        a = selection(parents)    # selection done using Roulette's wheel\n",
    "        b = selection(parents)\n",
    "        if np.sum(cost*a)!=np.sum(cost*b):\n",
    "            off1 = np.zeros((num_supply,num_demand))\n",
    "            off2 = np.zeros((num_supply,num_demand))\n",
    "            off1,off2,flag = crossover(a,b,num_supply,num_demand,cost)\n",
    "            temp_hor = 0\n",
    "            temp_vert = 0\n",
    "            \n",
    "            # flag==1 shows that two offsprings are coming\n",
    "            if flag==1:\n",
    "                horOff1 = np.sum(off1,axis=1)\n",
    "                vertOff1 = np.sum(off1,axis=0)\n",
    "                horOff2 = np.sum(off2,axis=1)\n",
    "                vertOff2 = np.sum(off2,axis=0)\n",
    "                \n",
    "                # extra checks to see if the offsprings satisfy the constraints\n",
    "                for i in range(num_supply):\n",
    "                    if source[i]==horOff1[i] and source[i]==horOff2[i]:\n",
    "                        temp_hor = temp_hor+1\n",
    "                for i in range(num_demand):\n",
    "                    if dest[i]==vertOff1[i] and dest[i]==vertOff2[i]:\n",
    "                        temp_vert = temp_vert+1\n",
    "                if temp_hor==num_supply and temp_vert==num_demand:\n",
    "                    offsprings.append(off1)\n",
    "                    offsprings.append(off2)\n",
    "                n=n-2\n",
    "            else:\n",
    "                horOff1 = np.sum(off1,axis=1)\n",
    "                vertOff1 = np.sum(off1,axis=0)\n",
    "                for i in range(num_supply):\n",
    "                    if source[i]==horOff1[i]:\n",
    "                        temp_hor = temp_hor+1\n",
    "                for i in range(num_demand):\n",
    "                    if dest[i]==vertOff1[i]:\n",
    "                        temp_vert = temp_vert+1\n",
    "                if temp_hor==num_supply and temp_vert==num_demand:\n",
    "                    offsprings.append(off1)\n",
    "                n=n-1\n",
    "    return offsprings"
   ]
  },
  {
   "cell_type": "markdown",
   "metadata": {
    "deletable": true,
    "editable": true
   },
   "source": [
    "- **Add/Remove cost** : Converts list of parents from [[cost,parent]..] to [[parent]..] and vice-versa"
   ]
  },
  {
   "cell_type": "code",
   "execution_count": 43,
   "metadata": {
    "collapsed": true,
    "deletable": true,
    "editable": true
   },
   "outputs": [],
   "source": [
    "def add_or_remove(parents,flag,cost):\n",
    "    p = []\n",
    "    if flag==1:\n",
    "        for i in range(len(parents)):\n",
    "            p.append([np.sum(cost*parents[i]),parents[i]])\n",
    "    if flag==0:\n",
    "        for i in range(len(parents)):\n",
    "            p.append(parents[i][1])\n",
    "    return p"
   ]
  },
  {
   "cell_type": "markdown",
   "metadata": {},
   "source": [
    "- **MUTATION MAIN LOOP** : Give offsprings from nth generation using mutation function"
   ]
  },
  {
   "cell_type": "code",
   "execution_count": 44,
   "metadata": {
    "collapsed": true,
    "deletable": true,
    "editable": true
   },
   "outputs": [],
   "source": [
    "def do_mutate(copy_parents,mut_num,cost,num_supply,num_demand,source,dest):\n",
    "    \n",
    "    # n is the number of parents to be selected for mutation calculated using mut_num*population\n",
    "    n = int(mut_num*len(copy_parents))\n",
    "    parents = add_or_remove(copy_parents,1,cost)\n",
    "    offsprings = []\n",
    "    temp_hor = 0\n",
    "    temp_vert = 0\n",
    "    \n",
    "    # This loop adds the offsprings to a list if it satisfies constraints\n",
    "    while n!=0:\n",
    "        a = selection(parents)\n",
    "        off1 = mutate(a)\n",
    "        horOff1 = np.sum(off1,axis=1)\n",
    "        vertOff1 = np.sum(off1,axis=0)\n",
    "        for i in range(num_supply):\n",
    "            if source[i]==horOff1[i]:\n",
    "                temp_hor = temp_hor+1\n",
    "        for i in range(num_demand):\n",
    "            if dest[i]==vertOff1[i]:\n",
    "                temp_vert = temp_vert+1\n",
    "        if temp_hor==num_supply and temp_vert==num_demand:\n",
    "            offsprings.append(off1)\n",
    "        n = n-1\n",
    "    return offsprings"
   ]
  },
  {
   "cell_type": "markdown",
   "metadata": {
    "deletable": true,
    "editable": true
   },
   "source": [
    "#### INPUT "
   ]
  },
  {
   "cell_type": "code",
   "execution_count": 45,
   "metadata": {
    "collapsed": true,
    "deletable": true,
    "editable": true
   },
   "outputs": [],
   "source": [
    "source = [8,4,12,6]\n",
    "dest = [3,5,10,7,5]\n",
    "supply_coords = [[7., 6.],[2., 7.],[1., 6.],[6., 8.]]\n",
    "demand_coords = [[3., 9.],[4., 6.],[5., 7.],[5., 3.],[2., 9.]]\n",
    "# source = [13,12]\n",
    "# dest = [9, 16]\n",
    "# supply_coords = [[7., 6.],[2., 5.]]\n",
    "# demand_coords = [[3., 9.],[4., 6.]]\n",
    "##############\n",
    "# source = [3,3]\n",
    "# dest = [2, 4]\n",
    "# supply_coords = [[7., 6.],[8.338, 3.513]]\n",
    "# demand_coords = [[7., 5.],[4., 6.]]\n",
    "population = 100\n",
    "num_supply = len(source)\n",
    "num_demand = len(dest)\n",
    "cross_num = 0.4\n",
    "mutate_num = 0.2\n",
    "num_gen = 1000\n",
    "convergence_no = 25"
   ]
  },
  {
   "cell_type": "markdown",
   "metadata": {
    "deletable": true,
    "editable": true
   },
   "source": [
    "#### Main loop"
   ]
  },
  {
   "cell_type": "code",
   "execution_count": 46,
   "metadata": {
    "collapsed": false,
    "deletable": true,
    "editable": true,
    "scrolled": true
   },
   "outputs": [
    {
     "name": "stdout",
     "output_type": "stream",
     "text": [
      "Iteration 0 : 83.8306898727 Minimum cost:  83.8306898727\n",
      "Iteration 1 : 83.8306898727 Minimum cost:  83.8306898727\n",
      "Iteration 2 : 87.5004099013 Minimum cost:  83.8306898727\n",
      "Iteration 3 : 87.5004099013 Minimum cost:  83.8306898727\n",
      "Iteration 4 : 134.626970868 Minimum cost:  83.8306898727\n",
      "Iteration 5 : 88.7466311543 Minimum cost:  83.8306898727\n",
      "Iteration 6 : 88.7466311543 Minimum cost:  83.8306898727\n",
      "Iteration 7 : 88.5591490605 Minimum cost:  83.8306898727\n",
      "Iteration 8 : 85.4162785971 Minimum cost:  83.8306898727\n",
      "Iteration 9 : 84.9723894369 Minimum cost:  83.8306898727\n",
      "Iteration 10 : 84.9723894369 Minimum cost:  83.8306898727\n",
      "Iteration 11 : 84.9723894369 Minimum cost:  83.8306898727\n",
      "Iteration 12 : 84.9723894369 Minimum cost:  83.8306898727\n",
      "Iteration 13 : 84.9723894369 Minimum cost:  83.8306898727\n",
      "Iteration 14 : 84.0218298725 Minimum cost:  83.8306898727\n",
      "Iteration 15 : 84.0218298725 Minimum cost:  83.8306898727\n",
      "Iteration 16 : 84.0218298725 Minimum cost:  83.8306898727\n",
      "Iteration 17 : 83.8146242347 Minimum cost:  83.8146242347\n",
      "Iteration 18 : 83.8146242347 Minimum cost:  83.8146242347\n",
      "Iteration 19 : 88.5738773781 Minimum cost:  83.8146242347\n",
      "Iteration 20 : 84.0218298725 Minimum cost:  83.8146242347\n",
      "Iteration 21 : 83.9480395552 Minimum cost:  83.8146242347\n",
      "Iteration 22 : 83.9480395552 Minimum cost:  83.8146242347\n",
      "Iteration 23 : 83.9480395552 Minimum cost:  83.8146242347\n",
      "Iteration 24 : 83.9480395552 Minimum cost:  83.8146242347\n",
      "Iteration 25 : 83.9480395552 Minimum cost:  83.8146242347\n",
      "Iteration 26 : 83.9480395552 Minimum cost:  83.8146242347\n",
      "Iteration 27 : 83.8146242347 Minimum cost:  83.8146242347\n",
      "Iteration 28 : 83.8146242347 Minimum cost:  83.8146242347\n",
      "Iteration 29 : 83.8146242347 Minimum cost:  83.8146242347\n",
      "Iteration 30 : 104.391389236 Minimum cost:  83.8146242347\n",
      "Iteration 31 : 83.6074185969 Minimum cost:  83.6074185969\n",
      "Iteration 32 : 83.6074185969 Minimum cost:  83.6074185969\n",
      "Iteration 33 : 89.1852134951 Minimum cost:  83.6074185969\n",
      "Iteration 34 : 109.36267099 Minimum cost:  83.6074185969\n",
      "Iteration 35 : 84.0218298725 Minimum cost:  83.6074185969\n",
      "Iteration 36 : 84.0218298725 Minimum cost:  83.6074185969\n",
      "Iteration 37 : 83.9480395552 Minimum cost:  83.6074185969\n",
      "Iteration 38 : 83.9088675206 Minimum cost:  83.6074185969\n",
      "Iteration 39 : 83.9088675206 Minimum cost:  83.6074185969\n",
      "Iteration 40 : 83.9088675206 Minimum cost:  83.6074185969\n",
      "Iteration 41 : 83.8306898727 Minimum cost:  83.6074185969\n",
      "Iteration 42 : 83.8306898727 Minimum cost:  83.6074185969\n",
      "Iteration 43 : 83.8306898727 Minimum cost:  83.6074185969\n",
      "Iteration 44 : 83.8306898727 Minimum cost:  83.6074185969\n",
      "Iteration 45 : 96.5172858126 Minimum cost:  83.6074185969\n",
      "Iteration 46 : 83.9088675206 Minimum cost:  83.6074185969\n",
      "Iteration 47 : 83.9088675206 Minimum cost:  83.6074185969\n",
      "Iteration 48 : 83.4162785971 Minimum cost:  83.4162785971\n",
      "Iteration 49 : 83.2090729593 Minimum cost:  83.2090729593\n",
      "Iteration 50 : 83.2090729593 Minimum cost:  83.2090729593\n",
      "Iteration 51 : 83.2090729593 Minimum cost:  83.2090729593\n",
      "Iteration 52 : 83.2090729593 Minimum cost:  83.2090729593\n",
      "Iteration 53 : 83.2090729593 Minimum cost:  83.2090729593\n",
      "Iteration 54 : 83.2090729593 Minimum cost:  83.2090729593\n",
      "Iteration 55 : 83.2090729593 Minimum cost:  83.2090729593\n",
      "Iteration 56 : 83.2090729593 Minimum cost:  83.2090729593\n",
      "Iteration 57 : 83.2090729593 Minimum cost:  83.2090729593\n",
      "Iteration 58 : 92.1973822199 Minimum cost:  83.2090729593\n",
      "Iteration 59 : 83.2090729593 Minimum cost:  83.2090729593\n",
      "Iteration 60 : 83.2090729593 Minimum cost:  83.2090729593\n",
      "Iteration 61 : 83.2090729593 Minimum cost:  83.2090729593\n",
      "Iteration 62 : 83.2090729593 Minimum cost:  83.2090729593\n",
      "Iteration 63 : 83.2090729593 Minimum cost:  83.2090729593\n",
      "Iteration 64 : 83.2090729593 Minimum cost:  83.2090729593\n",
      "Iteration 65 : 83.2090729593 Minimum cost:  83.2090729593\n",
      "Iteration 66 : 83.2090729593 Minimum cost:  83.2090729593\n",
      "Iteration 67 : 83.2090729593 Minimum cost:  83.2090729593\n",
      "Iteration 68 : 83.2090729593 Minimum cost:  83.2090729593\n",
      "Iteration 69 : 92.4703635723 Minimum cost:  83.2090729593\n",
      "Iteration 70 : 83.6074185969 Minimum cost:  83.2090729593\n",
      "Iteration 71 : 110.638234232 Minimum cost:  83.2090729593\n",
      "Iteration 72 : 84.1000075205 Minimum cost:  83.2090729593\n",
      "Iteration 73 : 84.1000075205 Minimum cost:  83.2090729593\n",
      "Iteration 74 : 83.9480395552 Minimum cost:  83.2090729593\n",
      "Iteration 75 : 83.9480395552 Minimum cost:  83.2090729593\n",
      "Iteration 76 : 83.9480395552 Minimum cost:  83.2090729593\n",
      "Iteration 77 : 83.9480395552 Minimum cost:  83.2090729593\n",
      "Iteration 78 : 83.9480395552 Minimum cost:  83.2090729593\n",
      "Iteration 79 : 83.9480395552 Minimum cost:  83.2090729593\n",
      "Iteration 80 : 83.9088675206 Minimum cost:  83.2090729593\n",
      "Iteration 81 : 83.8146242347 Minimum cost:  83.2090729593\n",
      "Iteration 82 : 83.8146242347 Minimum cost:  83.2090729593\n",
      "Iteration 83 : 83.7016618828 Minimum cost:  83.2090729593\n",
      "Iteration 84 : 83.7016618828 Minimum cost:  83.2090729593\n",
      "Iteration 85 : 83.7016618828 Minimum cost:  83.2090729593\n",
      "Iteration 86 : 83.7016618828 Minimum cost:  83.2090729593\n",
      "Iteration 87 : 83.7016618828 Minimum cost:  83.2090729593\n",
      "Iteration 88 : 83.7016618828 Minimum cost:  83.2090729593\n",
      "Iteration 89 : 83.7016618828 Minimum cost:  83.2090729593\n",
      "Iteration 90 : 83.7016618828 Minimum cost:  83.2090729593\n",
      "Iteration 91 : 83.7016618828 Minimum cost:  83.2090729593\n",
      "Iteration 92 : 83.7016618828 Minimum cost:  83.2090729593\n",
      "Iteration 93 : 83.6074185969 Minimum cost:  83.2090729593\n",
      "Iteration 94 : 83.6074185969 Minimum cost:  83.2090729593\n",
      "Iteration 95 : 83.6074185969 Minimum cost:  83.2090729593\n",
      "Iteration 96 : 83.6074185969 Minimum cost:  83.2090729593\n",
      "Iteration 97 : 83.6074185969 Minimum cost:  83.2090729593\n",
      "Iteration 98 : 83.6074185969 Minimum cost:  83.2090729593\n",
      "Iteration 99 : 83.6074185969 Minimum cost:  83.2090729593\n",
      "Iteration 100 : 99.6431108914 Minimum cost:  83.2090729593\n",
      "Iteration 101 : 83.7016618828 Minimum cost:  83.2090729593\n",
      "Iteration 102 : 83.7016618828 Minimum cost:  83.2090729593\n",
      "Iteration 103 : 83.7016618828 Minimum cost:  83.2090729593\n",
      "Iteration 104 : 83.7016618828 Minimum cost:  83.2090729593\n",
      "Iteration 105 : 83.7016618828 Minimum cost:  83.2090729593\n",
      "Iteration 106 : 83.7016618828 Minimum cost:  83.2090729593\n",
      "Iteration 107 : 83.7016618828 Minimum cost:  83.2090729593\n",
      "Iteration 108 : 83.7016618828 Minimum cost:  83.2090729593\n",
      "Iteration 109 : 83.7016618828 Minimum cost:  83.2090729593\n",
      "Iteration 110 : 83.7016618828 Minimum cost:  83.2090729593\n",
      "Iteration 111 : 83.7016618828 Minimum cost:  83.2090729593\n",
      "Iteration 112 : 98.6179476841 Minimum cost:  83.2090729593\n",
      "Iteration 113 : 83.8146242347 Minimum cost:  83.2090729593\n",
      "Iteration 114 : 83.8146242347 Minimum cost:  83.2090729593\n",
      "Iteration 115 : 83.8146242347 Minimum cost:  83.2090729593\n",
      "Iteration 116 : 83.8146242347 Minimum cost:  83.2090729593\n",
      "Iteration 117 : 83.8146242347 Minimum cost:  83.2090729593\n",
      "Iteration 118 : 83.6074185969 Minimum cost:  83.2090729593\n",
      "Iteration 119 : 83.6074185969 Minimum cost:  83.2090729593\n",
      "Iteration 120 : 83.6074185969 Minimum cost:  83.2090729593\n",
      "Iteration 121 : 89.1852134951 Minimum cost:  83.2090729593\n",
      "Iteration 122 : 83.9480395552 Minimum cost:  83.2090729593\n",
      "Iteration 123 : 83.9480395552 Minimum cost:  83.2090729593\n",
      "Iteration 124 : 83.7408339174 Minimum cost:  83.2090729593\n",
      "Iteration 125 : 83.7408339174 Minimum cost:  83.2090729593\n",
      "Iteration 126 : 100.35844706 Minimum cost:  83.2090729593\n",
      "Iteration 127 : 83.8146242347 Minimum cost:  83.2090729593\n",
      "Iteration 128 : 83.8146242347 Minimum cost:  83.2090729593\n",
      "Iteration 129 : 83.8146242347 Minimum cost:  83.2090729593\n",
      "Iteration 130 : 83.8146242347 Minimum cost:  83.2090729593\n",
      "Iteration 131 : 83.8146242347 Minimum cost:  83.2090729593\n",
      "Iteration 132 : 83.8146242347 Minimum cost:  83.2090729593\n",
      "Iteration 133 : 83.8146242347 Minimum cost:  83.2090729593\n",
      "Iteration 134 : 83.8146242347 Minimum cost:  83.2090729593\n",
      "Iteration 135 : 83.8146242347 Minimum cost:  83.2090729593\n",
      "Iteration 136 : 83.4162785971 Minimum cost:  83.2090729593\n",
      "Iteration 137 : 83.4162785971 Minimum cost:  83.2090729593\n",
      "Iteration 138 : 83.4162785971 Minimum cost:  83.2090729593\n",
      "Iteration 139 : 83.4162785971 Minimum cost:  83.2090729593\n",
      "Iteration 140 : 83.4162785971 Minimum cost:  83.2090729593\n",
      "Iteration 141 : 102.335978154 Minimum cost:  83.2090729593\n",
      "Iteration 142 : 83.6234842349 Minimum cost:  83.2090729593\n",
      "Iteration 143 : 83.6234842349 Minimum cost:  83.2090729593\n",
      "Iteration 144 : 83.6234842349 Minimum cost:  83.2090729593\n",
      "Iteration 145 : 83.6234842349 Minimum cost:  83.2090729593\n",
      "Iteration 146 : 83.6234842349 Minimum cost:  83.2090729593\n",
      "Iteration 147 : 83.6234842349 Minimum cost:  83.2090729593\n",
      "Iteration 148 : 83.6234842349 Minimum cost:  83.2090729593\n",
      "Iteration 149 : 84.9929675328 Minimum cost:  83.2090729593\n",
      "Iteration 150 : 83.9088675206 Minimum cost:  83.2090729593\n",
      "Iteration 151 : 83.9088675206 Minimum cost:  83.2090729593\n",
      "Iteration 152 : 83.6234842349 Minimum cost:  83.2090729593\n",
      "Iteration 153 : 96.6739739508 Minimum cost:  83.2090729593\n",
      "Iteration 154 : 83.9088675206 Minimum cost:  83.2090729593\n",
      "Iteration 155 : 83.8146242347 Minimum cost:  83.2090729593\n",
      "Iteration 156 : 83.8146242347 Minimum cost:  83.2090729593\n",
      "Iteration 157 : 83.8146242347 Minimum cost:  83.2090729593\n",
      "Iteration 158 : 83.4162785971 Minimum cost:  83.2090729593\n",
      "Iteration 159 : 83.4162785971 Minimum cost:  83.2090729593\n",
      "Iteration 160 : 83.4162785971 Minimum cost:  83.2090729593\n",
      "Iteration 161 : 83.2090729593 Minimum cost:  83.2090729593\n",
      "Iteration 162 : 110.076735261 Minimum cost:  83.2090729593\n",
      "Iteration 163 : 83.4162785971 Minimum cost:  83.2090729593\n",
      "Iteration 164 : 83.4162785971 Minimum cost:  83.2090729593\n",
      "Iteration 165 : 83.4162785971 Minimum cost:  83.2090729593\n",
      "Iteration 166 : 83.4162785971 Minimum cost:  83.2090729593\n",
      "Iteration 167 : 83.4162785971 Minimum cost:  83.2090729593\n",
      "Iteration 168 : 83.4162785971 Minimum cost:  83.2090729593\n",
      "Iteration 169 : 83.4162785971 Minimum cost:  83.2090729593\n",
      "Iteration 170 : 83.4162785971 Minimum cost:  83.2090729593\n",
      "Iteration 171 : 83.4162785971 Minimum cost:  83.2090729593\n",
      "Iteration 172 : 83.4162785971 Minimum cost:  83.2090729593\n",
      "Iteration 173 : 83.4162785971 Minimum cost:  83.2090729593\n",
      "Iteration 174 : 83.4162785971 Minimum cost:  83.2090729593\n",
      "Iteration 175 : 84.8940453678 Minimum cost:  83.2090729593\n",
      "Iteration 176 : 83.7016618828 Minimum cost:  83.2090729593\n",
      "Iteration 177 : 83.7016618828 Minimum cost:  83.2090729593\n",
      "Iteration 178 : 83.7016618828 Minimum cost:  83.2090729593\n",
      "Iteration 179 : 116.596185816 Minimum cost:  83.2090729593\n",
      "Iteration 180 : 83.9088675206 Minimum cost:  83.2090729593\n",
      "Iteration 181 : 83.9088675206 Minimum cost:  83.2090729593\n",
      "Iteration 182 : 83.9088675206 Minimum cost:  83.2090729593\n",
      "Iteration 183 : 83.8146242347 Minimum cost:  83.2090729593\n",
      "Iteration 184 : 83.8146242347 Minimum cost:  83.2090729593\n",
      "Iteration 185 : 92.2383589652 Minimum cost:  83.2090729593\n",
      "Iteration 186 : 84.1000075205 Minimum cost:  83.2090729593\n",
      "Iteration 187 : 83.9480395552 Minimum cost:  83.2090729593\n",
      "Iteration 188 : 83.9480395552 Minimum cost:  83.2090729593\n",
      "Iteration 189 : 83.9480395552 Minimum cost:  83.2090729593\n",
      "Iteration 190 : 83.9088675206 Minimum cost:  83.2090729593\n",
      "Iteration 191 : 83.7016618828 Minimum cost:  83.2090729593\n",
      "Iteration 192 : 83.7016618828 Minimum cost:  83.2090729593\n",
      "Iteration 193 : 86.9722230158 Minimum cost:  83.2090729593\n",
      "Iteration 194 : 98.78710572 Minimum cost:  83.2090729593\n",
      "Iteration 195 : 83.8146242347 Minimum cost:  83.2090729593\n",
      "Iteration 196 : 83.8146242347 Minimum cost:  83.2090729593\n",
      "Iteration 197 : 83.7016618828 Minimum cost:  83.2090729593\n",
      "Iteration 198 : 83.7016618828 Minimum cost:  83.2090729593\n",
      "Iteration 199 : 83.7016618828 Minimum cost:  83.2090729593\n",
      "Iteration 200 : 109.288004233 Minimum cost:  83.2090729593\n",
      "Iteration 201 : 84.155245193 Minimum cost:  83.2090729593\n",
      "Iteration 202 : 83.9088675206 Minimum cost:  83.2090729593\n",
      "Iteration 203 : 83.8306898727 Minimum cost:  83.2090729593\n",
      "Iteration 204 : 83.8306898727 Minimum cost:  83.2090729593\n",
      "Iteration 205 : 83.8306898727 Minimum cost:  83.2090729593\n",
      "Iteration 206 : 83.8306898727 Minimum cost:  83.2090729593\n",
      "Iteration 207 : 83.6234842349 Minimum cost:  83.2090729593\n",
      "Iteration 208 : 83.6234842349 Minimum cost:  83.2090729593\n",
      "Iteration 209 : 83.4162785971 Minimum cost:  83.2090729593\n",
      "Iteration 210 : 83.4162785971 Minimum cost:  83.2090729593\n",
      "Iteration 211 : 83.4162785971 Minimum cost:  83.2090729593\n",
      "Iteration 212 : 83.4162785971 Minimum cost:  83.2090729593\n",
      "Iteration 213 : 83.4162785971 Minimum cost:  83.2090729593\n",
      "Iteration 214 : 104.219255174 Minimum cost:  83.2090729593\n",
      "Iteration 215 : 83.6234842349 Minimum cost:  83.2090729593\n",
      "Iteration 216 : 83.6234842349 Minimum cost:  83.2090729593\n",
      "Iteration 217 : 83.6234842349 Minimum cost:  83.2090729593\n",
      "Iteration 218 : 83.6234842349 Minimum cost:  83.2090729593\n",
      "Iteration 219 : 83.6234842349 Minimum cost:  83.2090729593\n",
      "Iteration 220 : 83.6234842349 Minimum cost:  83.2090729593\n",
      "Iteration 221 : 83.6234842349 Minimum cost:  83.2090729593\n",
      "Iteration 222 : 98.249065901 Minimum cost:  83.2090729593\n",
      "Iteration 223 : 83.4162785971 Minimum cost:  83.2090729593\n",
      "Iteration 224 : 83.4162785971 Minimum cost:  83.2090729593\n",
      "Iteration 225 : 83.2090729593 Minimum cost:  83.2090729593\n",
      "Iteration 226 : 83.2090729593 Minimum cost:  83.2090729593\n",
      "Iteration 227 : 83.2090729593 Minimum cost:  83.2090729593\n",
      "Iteration 228 : 87.1103172154 Minimum cost:  83.2090729593\n",
      "Iteration 229 : 83.4162785971 Minimum cost:  83.2090729593\n",
      "Iteration 230 : 83.4162785971 Minimum cost:  83.2090729593\n",
      "Iteration 231 : 83.4162785971 Minimum cost:  83.2090729593\n",
      "Iteration 232 : 86.6977649697 Minimum cost:  83.2090729593\n",
      "Iteration 233 : 83.4162785971 Minimum cost:  83.2090729593\n",
      "Iteration 234 : 83.4162785971 Minimum cost:  83.2090729593\n",
      "Iteration 235 : 83.4162785971 Minimum cost:  83.2090729593\n",
      "Iteration 236 : 83.4162785971 Minimum cost:  83.2090729593\n",
      "Iteration 237 : 97.0834142454 Minimum cost:  83.2090729593\n",
      "Iteration 238 : 83.8146242347 Minimum cost:  83.2090729593\n",
      "Iteration 239 : 83.8146242347 Minimum cost:  83.2090729593\n",
      "Iteration 240 : 83.8146242347 Minimum cost:  83.2090729593\n",
      "Iteration 241 : 83.8146242347 Minimum cost:  83.2090729593\n",
      "Iteration 242 : 83.8146242347 Minimum cost:  83.2090729593\n",
      "Iteration 243 : 83.8146242347 Minimum cost:  83.2090729593\n",
      "Iteration 244 : 83.8146242347 Minimum cost:  83.2090729593\n",
      "Iteration 245 : 83.7016618828 Minimum cost:  83.2090729593\n",
      "Iteration 246 : 83.7016618828 Minimum cost:  83.2090729593\n",
      "Iteration 247 : 83.7016618828 Minimum cost:  83.2090729593\n",
      "Iteration 248 : 83.6234842349 Minimum cost:  83.2090729593\n",
      "Iteration 249 : 91.201279133 Minimum cost:  83.2090729593\n",
      "Iteration 250 : 113.7251135 Minimum cost:  83.2090729593\n",
      "Iteration 251 : 83.7408339174 Minimum cost:  83.2090729593\n",
      "Iteration 252 : 91.2768222783 Minimum cost:  83.2090729593\n",
      "Iteration 253 : 83.9088675206 Minimum cost:  83.2090729593\n",
      "Iteration 254 : 83.6074185969 Minimum cost:  83.2090729593\n",
      "Iteration 255 : 83.6074185969 Minimum cost:  83.2090729593\n",
      "Iteration 256 : 83.6074185969 Minimum cost:  83.2090729593\n",
      "Iteration 257 : 85.0851853677 Minimum cost:  83.2090729593\n",
      "Iteration 258 : 83.8146242347 Minimum cost:  83.2090729593\n",
      "Iteration 259 : 83.4162785971 Minimum cost:  83.2090729593\n",
      "Iteration 260 : 83.4162785971 Minimum cost:  83.2090729593\n",
      "Iteration 261 : 83.4162785971 Minimum cost:  83.2090729593\n",
      "Iteration 262 : 95.6842152004 Minimum cost:  83.2090729593\n",
      "Iteration 263 : 83.6234842349 Minimum cost:  83.2090729593\n",
      "Iteration 264 : 83.6234842349 Minimum cost:  83.2090729593\n",
      "Iteration 265 : 83.6234842349 Minimum cost:  83.2090729593\n",
      "Iteration 266 : 92.8847748479 Minimum cost:  83.2090729593\n",
      "Iteration 267 : 83.7408339174 Minimum cost:  83.2090729593\n",
      "Iteration 268 : 83.7408339174 Minimum cost:  83.2090729593\n",
      "Iteration 269 : 83.7408339174 Minimum cost:  83.2090729593\n",
      "Iteration 270 : 83.7016618828 Minimum cost:  83.2090729593\n",
      "Iteration 271 : 83.7016618828 Minimum cost:  83.2090729593\n",
      "Iteration 272 : 83.7016618828 Minimum cost:  83.2090729593\n",
      "Iteration 273 : 83.7016618828 Minimum cost:  83.2090729593\n",
      "Iteration 274 : 86.6870061511 Minimum cost:  83.2090729593\n",
      "Iteration 275 : 83.7016618828 Minimum cost:  83.2090729593\n",
      "Iteration 276 : 99.9541537197 Minimum cost:  83.2090729593\n",
      "Iteration 277 : 83.9088675206 Minimum cost:  83.2090729593\n",
      "Iteration 278 : 83.2090729593 Minimum cost:  83.2090729593\n",
      "Iteration 279 : 83.2090729593 Minimum cost:  83.2090729593\n",
      "FINAL ANSWER 83.2090729593 [[ 0.  0.  4.  4.  0.]\n",
      " [ 3.  0.  0.  0.  1.]\n",
      " [ 0.  5.  0.  3.  4.]\n",
      " [ 0.  0.  6.  0.  0.]] 83.2090729593\n"
     ]
    }
   ],
   "source": [
    "start = time.time()\n",
    "cost = find_cost(supply_coords,demand_coords)\n",
    "parents = init_Parent_Gen(population,num_supply,num_demand,source,dest,cost)\n",
    "parents = bubble_sort(parents,cost)\n",
    "parents= remove_copies(parents)\n",
    "no = len(parents)\n",
    "p = parents.copy()\n",
    "itr = 0\n",
    "temp = []\n",
    "endFinder = 10000  # This value keeps updating itself with the most minimum cost found till now. \n",
    "endNum =0          # endNum gives the number of occurances of endFinder\n",
    "c=[]\n",
    "m=[]\n",
    "\n",
    "\n",
    "for i in range(num_gen):\n",
    "\n",
    "    temp = []\n",
    "    # crossover and mutation\n",
    "    c = add_or_remove(do_cross(add_or_remove(p,0,cost),cross_num,num_supply,num_demand,cost,source,dest),1,cost)\n",
    "    m = add_or_remove(do_mutate(add_or_remove(p,0,cost),mutate_num,cost,num_supply,num_demand,source,dest),1,cost)\n",
    "    \n",
    "    # perform elitist selection\n",
    "    temp = c+m+p\n",
    "\n",
    "    temp = bubble_sort(temp,cost)\n",
    "    temp = remove_copies(temp)\n",
    "    p = []\n",
    "    \n",
    "    \n",
    "    p = temp[:population]\n",
    "\n",
    "    itr = itr+1\n",
    "    if endFinder>p[0][0]:\n",
    "        endFinder=p[0][0]\n",
    "        if endNum==0:\n",
    "            endNum= endNum+1\n",
    "        else:\n",
    "            endNum=0\n",
    "    elif endFinder==p[0][0]:\n",
    "        endNum= endNum+1\n",
    "    \n",
    "    # if endNum occurs convergence number times, then we can say that it has converged.\n",
    "        if (endNum-1)==convergence_no:\n",
    "            print(\"FINAL ANSWER\" ,p[0][0],p[0][1],np.sum(p[0][1]*cost))\n",
    "            break\n",
    "\n",
    "    print(\"Iteration\",i,\":\",p[0][0],\"Minimum cost: \" ,endFinder)\n",
    "\n",
    "end = time.time()"
   ]
  },
  {
   "cell_type": "markdown",
   "metadata": {
    "deletable": true,
    "editable": true
   },
   "source": [
    "### Final Output"
   ]
  },
  {
   "cell_type": "markdown",
   "metadata": {
    "deletable": true,
    "editable": true
   },
   "source": [
    "Minimized cost"
   ]
  },
  {
   "cell_type": "code",
   "execution_count": 47,
   "metadata": {
    "collapsed": false,
    "deletable": true,
    "editable": true
   },
   "outputs": [
    {
     "name": "stdout",
     "output_type": "stream",
     "text": [
      "83.2090729593\n"
     ]
    }
   ],
   "source": [
    "print(p[0][0])"
   ]
  },
  {
   "cell_type": "markdown",
   "metadata": {
    "deletable": true,
    "editable": true
   },
   "source": [
    "Solution matrix"
   ]
  },
  {
   "cell_type": "code",
   "execution_count": 48,
   "metadata": {
    "collapsed": false,
    "deletable": true,
    "editable": true
   },
   "outputs": [
    {
     "name": "stdout",
     "output_type": "stream",
     "text": [
      "[[ 0.  0.  4.  4.  0.]\n",
      " [ 3.  0.  0.  0.  1.]\n",
      " [ 0.  5.  0.  3.  4.]\n",
      " [ 0.  0.  6.  0.  0.]]\n"
     ]
    }
   ],
   "source": [
    "print(p[0][1])"
   ]
  },
  {
   "cell_type": "markdown",
   "metadata": {
    "deletable": true,
    "editable": true
   },
   "source": [
    "Time Taken"
   ]
  },
  {
   "cell_type": "code",
   "execution_count": 49,
   "metadata": {
    "collapsed": false,
    "deletable": true,
    "editable": true
   },
   "outputs": [
    {
     "name": "stdout",
     "output_type": "stream",
     "text": [
      "6.689572334289551 sec\n"
     ]
    }
   ],
   "source": [
    "print(end-start,\"sec\")"
   ]
  }
 ],
 "metadata": {
  "kernelspec": {
   "display_name": "Python 3",
   "language": "python",
   "name": "python3"
  },
  "language_info": {
   "codemirror_mode": {
    "name": "ipython",
    "version": 3
   },
   "file_extension": ".py",
   "mimetype": "text/x-python",
   "name": "python",
   "nbconvert_exporter": "python",
   "pygments_lexer": "ipython3",
   "version": "3.5.2"
  }
 },
 "nbformat": 4,
 "nbformat_minor": 2
}
