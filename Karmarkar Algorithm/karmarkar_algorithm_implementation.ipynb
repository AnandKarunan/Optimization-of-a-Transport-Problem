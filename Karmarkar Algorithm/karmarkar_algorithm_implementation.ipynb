{
  "nbformat": 4,
  "nbformat_minor": 0,
  "metadata": {
    "colab": {
      "name": "karmarkar_algorithm_implementation.ipynb",
      "provenance": [],
      "collapsed_sections": []
    },
    "kernelspec": {
      "name": "python3",
      "display_name": "Python 3"
    },
    "language_info": {
      "name": "python"
    }
  },
  "cells": [
    {
      "cell_type": "code",
      "metadata": {
        "id": "ZNB_Lu0QNE8a"
      },
      "source": [
        "import time\n",
        "import math\n",
        "import numpy as np\n",
        "from scipy import linalg\n",
        "import matplotlib.pyplot as plt\n",
        "import random\n",
        "%matplotlib inline"
      ],
      "execution_count": null,
      "outputs": []
    },
    {
      "cell_type": "code",
      "metadata": {
        "colab": {
          "base_uri": "https://localhost:8080/"
        },
        "id": "0d0fn57XNGS4",
        "outputId": "9bce80ef-bfbb-4578-86a3-7444a3785c42"
      },
      "source": [
        "e_list = [0.1 , 0.01 , 0.001 , 0.0001 , 0.00001 , 0.000001 , 0.0000001 ] # different stopping criteria for ploting various curves \n",
        "n_v = 3\n",
        "\n",
        "# test values from the example \n",
        "c = np.asarray([[0],[2],[-1]])\n",
        "A = np.asarray([ 1, -2,1]).reshape(1,n_v)\n",
        "x=np.ones((n_v ,1),dtype=float)*(1/(n_v))   #initial value of x is taken as 1/n in karmarkar's method to map pointsto the centre of the feasible region\n",
        "\n",
        "x_0 = x \n",
        "\n",
        "D = np.zeros((n_v ,n_v ), dtype=float)\n",
        "for i in range(0,n_v):\n",
        "    D[i,i] = x[i,0]\n",
        "\n",
        "\n",
        "# alpha calculated as defined in the karmarkar's original paper \n",
        "alpha = (n_v - 1 )/(3*(n_v))\n",
        "\n",
        "r = 1/(np.sqrt((n_v)*(n_v -1 )))\n",
        "\n",
        "# count keeps the tab for number of steps \n",
        "count = 0  \n",
        "\n",
        "\n",
        "x_hist = [x_0]\n",
        "cost_hist = [float(c.T.dot(x_0))]\n",
        "count_hist = [0]\n",
        "\n",
        "time_hist = []  # to store the time for different stopping criteria\n",
        "\n",
        "for e in e_list :\n",
        "  t0 = time.time()  # start time\n",
        "  while ( np.dot(c.T,x) > e ) :   # stopping criteria \n",
        "    c_bar = np.dot(c.T,D)\n",
        "    P = np.concatenate((np.dot(A,D),np.ones_like( A )), axis=0)\n",
        "    step1 = P.T.dot(linalg.inv(P.dot(P.T))).dot(P)\n",
        "    c_p = np.dot(np.eye(step1.shape[0]) - step1,c_bar.T)\n",
        "    norm = linalg.norm(c_p)\n",
        "    y_new = x_0 - alpha*r*(c_p/norm)\n",
        "    # for the first step store y_new in x \n",
        "    if count == 0 :\n",
        "      x = y_new\n",
        "    # for other steps than step 1 calculate new x ( k + 1)\n",
        "    else :\n",
        "      x = D.dot(y_new)/np.dot(np.ones_like(y_new).T,D.dot(y_new))\n",
        "    for i in range(0,n_v):\n",
        "      D[i,i] = x[i,0]\n",
        "    Z = np.dot(c.T, x)\n",
        "    count = count + 1\n",
        "    # x_hist.append(x)\n",
        "    # cost_hist.append(float(c.T.dot(x)))\n",
        "    # count_hist.append(count)\n",
        "  t1 = time.time()  # end time \n",
        "  time_hist.append((t1-t0)*1000) # to get time in seconds \n",
        "\n",
        "print(\"final results : \\n\")\n",
        "print(c.T.dot(x),\"\\n\")\n",
        "print(x,\"\\n\")"
      ],
      "execution_count": null,
      "outputs": [
        {
          "output_type": "stream",
          "text": [
            "final results : \n",
            "\n",
            "[[8.24582717e-08]] \n",
            "\n",
            "[[8.21746854e-08]\n",
            " [3.33333333e-01]\n",
            " [6.66666584e-01]] \n",
            "\n"
          ],
          "name": "stdout"
        }
      ]
    },
    {
      "cell_type": "code",
      "metadata": {
        "colab": {
          "base_uri": "https://localhost:8080/"
        },
        "id": "RQk6D4rxThU4",
        "outputId": "82c19ded-0bda-4534-9ce9-5b670e536004"
      },
      "source": [
        "print(count_hist,\"\\n\")\n",
        "print(cost_hist)"
      ],
      "execution_count": null,
      "outputs": [
        {
          "output_type": "stream",
          "text": [
            "[0, 1, 2, 3, 4, 5, 6, 7, 8, 9, 10, 11, 12, 13, 14, 15, 16, 17, 18] \n",
            "\n",
            "[0.3333333333333333, 0.2691833034233749, 0.2092576238498049, 0.1576394165788937, 0.11601115708278731, 0.08399921218132855, 0.06015787450632082, 0.04276908957513237, 0.030257718016824642, 0.02133551909437148, 0.015010349876691476, 0.010544042661615793, 0.007398792520113773, 0.00518793238558346, 0.0036358452847192746, 0.0025471921544582, 0.0017840627183894897, 0.001249347376364729, 0.0008747897450781528]\n"
          ],
          "name": "stdout"
        }
      ]
    },
    {
      "cell_type": "code",
      "metadata": {
        "id": "T95E2stcNMsG",
        "colab": {
          "base_uri": "https://localhost:8080/",
          "height": 299
        },
        "outputId": "1e071443-4751-45ad-8f9f-fc86ac1b8d67"
      },
      "source": [
        "font1 = {'family':'serif','color':'blue','size':13}\n",
        "font2 = {'family':'serif','color':'darkred','size':15}\n",
        "\n",
        "plt.title(\"Karmarkar’s  projective  scaling  method\", fontdict = font1)\n",
        "plt.xlabel(\"Number of iterations\", fontdict = font2)\n",
        "plt.ylabel(\"Cost Function\", fontdict = font2)\n",
        "\n",
        "# plt.title(\"Karmarkar’s  projective  scaling  method\")\n",
        "# plt.xlabel(\"Number of iterations\")\n",
        "# plt.ylabel(\"Cost Function\")\n",
        "plt.plot(count_hist,cost_hist,'.-g',label='e = 0.00001')\n",
        "plt.legend()\n",
        "# plt.savefig(\"karmarkar_e_0.00001.png\")"
      ],
      "execution_count": null,
      "outputs": [
        {
          "output_type": "display_data",
          "data": {
            "image/png": "[encoded data removed]",
            "text/plain": [
              "<Figure size 432x288 with 1 Axes>"
            ]
          },
          "metadata": {
            "tags": [],
            "needs_background": "light"
          }
        }
      ]
    },
    {
      "cell_type": "code",
      "metadata": {
        "colab": {
          "base_uri": "https://localhost:8080/",
          "height": 295
        },
        "id": "HSgDZERqTWLk",
        "outputId": "f86bd0f8-3f0b-40e2-f07a-6133bf9f09d5"
      },
      "source": [
        "plt.title(\"Stopping value v/s time taken\")\n",
        "plt.xlabel(\"log10(e)\")\n",
        "plt.ylabel(\"Time to execute(ms)\")\n",
        "\n",
        "plt.plot(np.log10(e_list),time_hist)\n",
        "plt.savefig(\"time_graph.png\")"
      ],
      "execution_count": null,
      "outputs": [
        {
          "output_type": "display_data",
          "data": {
            "image/png": "[encoded data removed]",
            "text/plain": [
              "<Figure size 432x288 with 1 Axes>"
            ]
          },
          "metadata": {
            "tags": [],
            "needs_background": "light"
          }
        }
      ]
    },
    {
      "cell_type": "code",
      "metadata": {
        "colab": {
          "base_uri": "https://localhost:8080/"
        },
        "id": "dQCGdf-aan65",
        "outputId": "5a38b6ab-4078-49d4-d6d7-a785ac3979cb"
      },
      "source": [
        "np.log10(e_list)"
      ],
      "execution_count": null,
      "outputs": [
        {
          "output_type": "execute_result",
          "data": {
            "text/plain": [
              "array([-1., -2., -3., -4., -5., -6., -7.])"
            ]
          },
          "metadata": {
            "tags": []
          },
          "execution_count": 69
        }
      ]
    },
    {
      "cell_type": "markdown",
      "metadata": {
        "id": "iJbJnpse6KZy"
      },
      "source": [
        "###  Alternate implementations"
      ]
    },
    {
      "cell_type": "code",
      "metadata": {
        "id": "lRC17l2pbdEZ"
      },
      "source": [
        "def concat(l1,l2):\n",
        "  ''' function to concatenate 2 list of lists, l1 and l2 here, to a single list of lists'''\n",
        "  temp = l1.copy()\n",
        "  for i in range(len(l2)):\n",
        "    temp.append(l2[i]) \n",
        "  return temp\n",
        "\n",
        "def cost_array(coords, prop_const=1, norm='euclidean',lower_cost=1,upper_cost=10):\n",
        "  ''' function to calculate a flattened cost matrix from the coordinates of the nodes and the type of norm specified'''\n",
        "  a = []\n",
        "  if norm == 'euclidean':\n",
        "    for i in range(len(coords)):\n",
        "      for j in range(len(coords)):\n",
        "        if i != j:\n",
        "          a.append(prop_const*np.linalg.norm(np.asarray(coords[i])-np.asarray(coords[j])))\n",
        "    return a\n",
        "  elif norm == 'random':\n",
        "    return [lower_cost + (upper_cost-lower_cost)*random.random() for i in range(len(coords)*(len(coords)-1))]\n",
        "  else:\n",
        "    print('CHOOSE SUITABLE NORM FOR COST')"
      ],
      "execution_count": null,
      "outputs": []
    },
    {
      "cell_type": "code",
      "metadata": {
        "id": "lZ0Fv-qi64kt"
      },
      "source": [
        "# In the following implentations, the variable array consists separate variables for transport between 'node1 and node2' and 'node2 to node1'. For example:\n",
        "# consider a case of two 1 supply node, node1 and 2 demand nodes, node2 and node3. So the variable array will be x = [x12, x13, x21, x23, x31, x32] where xij represents volume \n",
        "# of water transported from node i to node j\n",
        "\n",
        "def karmarkar_homogenous(A,c,L=20):\n",
        "  ''' Solves the homogeneous case, Ax = 0; where cost to be minimised is c^T*x and sum of elements of x is 1; L is some large number related to stopping criteria'''\n",
        "\n",
        "  n_v = A.shape[1] # size of variable array\n",
        "  D = np.zeros((n_v ,n_v ), dtype=float)\n",
        "  alpha = (n_v - 1 )/(3*(n_v))\n",
        "  r = 1/(np.sqrt((n_v)*(n_v -1 )))\n",
        "  x = np.ones([n_v,1])*(1/n_v)\n",
        "  \n",
        "  count = 0\n",
        "  x_0 = x.copy() # initial starting point\n",
        "  M = L\n",
        "  Z_old, Z_new = 0,0 # to store costs \n",
        "\n",
        "  while count <=1 or Z_old-Z_new > 2**(-M):\n",
        "    for i in range(0,n_v):\n",
        "      D[i,i] = x[i,0]\n",
        "    # print('D=',D)\n",
        "    P = np.append(np.matmul(A,D),np.ones((1,x.shape[0])), axis=0)\n",
        "    # print(P.shape)\n",
        "    C_ = np.matmul(c.T,D)\n",
        "    # print('PP^T=',np.linalg.det(np.matmul(P,P.T)))\n",
        "    \n",
        "    if np.linalg.det(np.matmul(P,P.T)) == 0:\n",
        "      print('Singularity detected')\n",
        "      break\n",
        "\n",
        "    # print('\\n',np.linalg.det(np.matmul(P,P.T)))\n",
        "    P_ = np.matmul(np.matmul(P.T, linalg.inv(np.matmul(P,P.T))) ,P)\n",
        "    C_p = np.matmul(np.identity(P.shape[1]) - P_ , C_.T)\n",
        "\n",
        "    C_p_norm = linalg.norm(C_p)\n",
        "    # print('C_p_norm=',C_p_norm)\n",
        "  \n",
        "    y_new = x_0 - alpha*r*(1/C_p_norm)*C_p\n",
        "  \n",
        "    x = np.matmul(D,y_new)/np.matmul(np.ones((1,n_v),dtype=float), np.matmul(D,y_new))\n",
        "\n",
        "    Z_old = Z_new\n",
        "    Z_new = float(np.matmul(c.T,x))\n",
        "    count += 1\n",
        "    # print('Z=',Z_new)\n",
        "    # print('x=',x)\n",
        "\n",
        "  # print('final objective function value =', np.matmul(c.T,x))\n",
        "  # print('optimal x =','\\n', x)\n",
        "  return x, np.matmul(c.T,x)\n",
        "\n",
        "def solve_karmarkar_3(supply_coords,demand_coords,source,dest,prop_const=1, norm='euclidean',flow_bound_upper=100):\n",
        "'''solves the non-homogeneous case, where the inputs are same as those mentioned in benchmarking code'''\n",
        "  \n",
        "  coords = concat(supply_coords, demand_coords) # concatenating supply and demand coordinates to a single list of lists\n",
        "  n = len(coords)\n",
        "  n_v = n*(n-1)\n",
        "  c = np.asarray(cost_array(coords)).reshape(n_v,1) # flattened cost matrix\n",
        "  c_actual = c.copy()\n",
        "\n",
        "  # start = time.time()\n",
        "\n",
        "  A = np.zeros([n,n_v]) #n = no. of nodes; n_v = no. of variables\n",
        "\n",
        "  for i in range(n):\n",
        "      for j in range(n):\n",
        "        if i != j:\n",
        "          if i<j:\n",
        "            if (i==0 and j==1) or (i!=0 and j==0):\n",
        "              A[i,(n-1)*i + j-1], A[i,(n-1)*j + i] = 1,-1\n",
        "            else:\n",
        "              A[i,(n-1)*i + j-1], A[i,(n-1)*j + i] = 1,-1\n",
        "          else:\n",
        "            if (i==0 and j==1) or (i!=0 and j==0):\n",
        "              A[i,(n-1)*i + j], A[i,(n-1)*j + i-1] = 1,-1\n",
        "            else:\n",
        "              A[i,(n-1)*i + j], A[i,(n-1)*j + i-1] = 1,-1\n",
        "\n",
        "  # print(A)\n",
        "\n",
        "  b = np.asarray(source + list(map(lambda x: -x, dest))).reshape(n,1)\n",
        "\n",
        "  a_interior = 0.1*np.ones([n_v,1],dtype=float)\n",
        "\n",
        "  for col in range(A.shape[1]):\n",
        "    A[:,col] = a_interior[col,0]*A[:,col]\n",
        "    c[col,0] = a_interior[col,0]*c[col,0]\n",
        "  A = np.append(A,-b,axis=1)\n",
        "  c = np.append(c,[[0]],axis=0)\n",
        "  n_v += 1\n",
        "\n",
        "  x = karmarkar_homogenous(A,c,L=n_v*flow_bound_upper)[0]\n",
        "\n",
        "  x_actual = []\n",
        "  for i in range(n_v-1):\n",
        "    x_actual.append(a_interior[i,0]*x[i,0]/x[-1,0])\n",
        "  # retrieving variable matrix(xij) from the flattened version x \n",
        "  xij = np.zeros([n,n])\n",
        "  ind = 0\n",
        "  for row in range(n):\n",
        "    for col in range(n):\n",
        "      if row != col:\n",
        "        xij[row][col] = x_actual[ind]\n",
        "        ind += 1\n",
        "  # keeping only the edges between supply and demand nodes\n",
        "  xij = np.asarray(xij)[:len(supply_coords), -len(demand_coords):].tolist()\n",
        "  print('final objective function value =', np.matmul(c_actual.T,np.asarray(x_actual).reshape(n_v-1,1)))\n",
        "  print('optimal x =','\\n', np.asarray(xij))"
      ],
      "execution_count": null,
      "outputs": []
    },
    {
      "cell_type": "markdown",
      "metadata": {
        "id": "2Bwmmdvr7o1t"
      },
      "source": [
        "### Homogeneous example"
      ]
    },
    {
      "cell_type": "code",
      "metadata": {
        "colab": {
          "base_uri": "https://localhost:8080/"
        },
        "id": "0gWe9lUR7lVY",
        "outputId": "e499d388-a43b-4c03-8428-f0a33e22ef87"
      },
      "source": [
        "A1 = np.asarray([0,1,-1]).reshape(1,3)\n",
        "c1 = np.asarray([1,0,0]).reshape(3,1)\n",
        "solution, cost = karmarkar_homogenous(A1,c1,L=100)\n",
        "print('final objective function value =', cost)\n",
        "print('optimal x =','\\n', solution)"
      ],
      "execution_count": null,
      "outputs": [
        {
          "output_type": "stream",
          "text": [
            "final objective function value = [[1.29627053e-30]]\n",
            "optimal x = \n",
            " [[1.29627053e-30]\n",
            " [5.00000000e-01]\n",
            " [5.00000000e-01]]\n"
          ],
          "name": "stdout"
        }
      ]
    },
    {
      "cell_type": "markdown",
      "metadata": {
        "id": "e4SjDYc_7uzd"
      },
      "source": [
        "### Non-homogeneous example"
      ]
    },
    {
      "cell_type": "code",
      "metadata": {
        "colab": {
          "base_uri": "https://localhost:8080/"
        },
        "id": "rJOIKKyi71KE",
        "outputId": "1f8290ea-d3fe-450f-d786-855b90b5f054"
      },
      "source": [
        "source = [8,4,12,6]\n",
        "dest = [3,5,10,7,5]\n",
        "supply_coords = [[7., 6.],[2., 7.],[1., 6.],[6., 8.]]\n",
        "demand_coords = [[3., 9.],[4., 6.],[5., 7.],[5., 3.],[2., 9.]]\n",
        "\n",
        "source1 = [13,12,10,5,3,8,1,2,17]\n",
        "dest1 = [9, 16,8,9,2,5,18,2,2]\n",
        "supply_coords1 = []\n",
        "demand_coords1 = []\n",
        "#randomly initializing the coordinates\n",
        "for node_s in range(len(source1)):\n",
        "  supply_coords1.append([50*random.random(),50*random.random()])\n",
        "for node_d in range(len(dest1)):\n",
        "  demand_coords1.append([50*random.random(),50*random.random()])\n",
        "\n",
        "solve_karmarkar_3(supply_coords,demand_coords,source,dest)\n",
        "# solve_karmarkar_3(supply_coords1,demand_coords1,source1,dest1)"
      ],
      "execution_count": null,
      "outputs": [
        {
          "output_type": "stream",
          "text": [
            "final objective function value = [[30.67299734]]\n",
            "optimal x = \n",
            " [[0.11479808 0.1163943  0.11520114 0.11892251 0.1162638 ]\n",
            " [0.11935417 0.11983567 0.1177097  0.12102498 0.1214647 ]\n",
            " [0.12086768 0.12172281 0.11934897 0.12337493 0.12311791]\n",
            " [0.114277   0.11491095 0.11409977 0.11649311 0.11569221]]\n"
          ],
          "name": "stdout"
        }
      ]
    }
  ]
}