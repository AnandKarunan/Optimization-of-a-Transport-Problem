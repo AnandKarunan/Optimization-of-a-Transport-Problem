{
 "cells": [
  {
   "cell_type": "code",
   "execution_count": 1,
   "metadata": {},
   "outputs": [],
   "source": [
    "import time"
   ]
  },
  {
   "cell_type": "markdown",
   "metadata": {},
   "source": [
    "# Calculating the Relative Profits of all the columns"
   ]
  },
  {
   "cell_type": "code",
   "execution_count": 2,
   "metadata": {},
   "outputs": [],
   "source": [
    "def zj_cj(l, cj):\n",
    "    a = [0, 0]\n",
    "    for i in range(2, len(cj)):\n",
    "        a.append(-cj[i])\n",
    "        \n",
    "    for i in range(len(l)):\n",
    "        for j in range(2, len(cj)):\n",
    "            a[j] += l[i][j]*l[i][0]\n",
    "    return a.index(min(a)), min(a)"
   ]
  },
  {
   "cell_type": "markdown",
   "metadata": {},
   "source": [
    "# Calculating the ratio of the selected column and finding the minimum"
   ]
  },
  {
   "cell_type": "code",
   "execution_count": 3,
   "metadata": {},
   "outputs": [],
   "source": [
    "def min_ratio(l, cj):\n",
    "    m = 10000000000\n",
    "    a = list()\n",
    "    b = zj_cj(l, cj)[0]\n",
    "    for i in range(len(l)):\n",
    "        if l[i][b] > 0:\n",
    "            a.append([l[i][1]/l[i][b], l[i][0]])\n",
    "        else:\n",
    "            a.append([m, l[i][0]])\n",
    "    x = a[0][0]\n",
    "    y = a[0][1]\n",
    "    z = 0\n",
    "    for i in range(1, len(l)):\n",
    "        if x > a[i][0]:\n",
    "            x = a[i][0]\n",
    "            y = a[i][1]\n",
    "            z = i\n",
    "        elif x == a[i][0]:\n",
    "            if y > a[i][1]:\n",
    "                y = a[i][1]\n",
    "                z = i\n",
    "    return z"
   ]
  },
  {
   "cell_type": "markdown",
   "metadata": {},
   "source": [
    "# Used Simplex Big-M method to optimize the matrix and finding the optimised cost using summation of CbXb"
   ]
  },
  {
   "cell_type": "code",
   "execution_count": 4,
   "metadata": {},
   "outputs": [],
   "source": [
    "def optimize(l, cj):\n",
    "    start_time = time.time()\n",
    "    n_ = 0\n",
    "    while(zj_cj(l, cj)[1] < 0):\n",
    "        n_ += 1\n",
    "        x_ = 0\n",
    "        a = zj_cj(l, cj)[0]\n",
    "        b = min_ratio(l, cj)\n",
    "        for i in range(len(l[0])):\n",
    "            l[b][i] = l[b][i]/l[b][a]\n",
    "        l[b][0] = cj[a]\n",
    "        for i in range(len(l)):\n",
    "            if (l[i][a] != 0 and i != b):\n",
    "                y = l[i][a]\n",
    "                for j in range(1, len(l[0])):\n",
    "                    l[i][j] = l[i][j] - (y*l[b][j])\n",
    "        for i in range(len(l)):\n",
    "            x_ += l[i][0]*l[i][1]\n",
    "    x_ = str(x_)\n",
    "    print(\"--- %s seconds ---\" % (time.time() - start_time))\n",
    "    return \"Optimized Cost = \" + x_, l"
   ]
  },
  {
   "cell_type": "markdown",
   "metadata": {},
   "source": [
    "# All Functions of Simplex Big-M combined"
   ]
  },
  {
   "cell_type": "code",
   "execution_count": 6,
   "metadata": {},
   "outputs": [],
   "source": [
    "def Simplex(S, D, dist):  \n",
    "    l = list()\n",
    "    for i in range(len(S) + len(D)):\n",
    "        l.append([])\n",
    "\n",
    "    M = 10000000000\n",
    "    c = 1\n",
    "\n",
    "    cj = [0, 0]                              #Constructing the Cj matrix which represents the \n",
    "    for i in range(len(S)):                  #coefficients of the variables in the objective function\n",
    "        for j in range(len(D)):               \n",
    "            cj.append(c*dist[i][j])\n",
    "    for i in range(len(S) + len(D)):\n",
    "        cj.append(0)\n",
    "    for i in range(len(D)):\n",
    "        cj.append(-M)\n",
    "        \n",
    "    for i in range(len(S) + len(D)):        #Constructing the Simplex Big-M Matrix till line 58\n",
    "        if (i < len(S)):\n",
    "            l[i].append(0)\n",
    "            l[i].append(S[i])\n",
    "            for j in range(len(S)*len(D)):\n",
    "                if (i == j//len(D)):\n",
    "                    l[i].append(1)\n",
    "                else:\n",
    "                    l[i].append(0)\n",
    "                    \n",
    "            for j in range(len(S) + len(D)):\n",
    "                if (i == j):\n",
    "                    l[i].append(1)\n",
    "                else:\n",
    "                    l[i].append(0)\n",
    "            \n",
    "            for j in range(len(D)):\n",
    "                l[i].append(0)\n",
    "                \n",
    "        else:\n",
    "            l[i].append(-M)\n",
    "            l[i].append(D[i - len(S)])\n",
    "            \n",
    "            for j in range(len(S)):\n",
    "                for k in range(len(D)):\n",
    "                    if (k == (i - len(S))):\n",
    "                        l[i].append(1)\n",
    "                    else:\n",
    "                        l[i].append(0)\n",
    "                        \n",
    "            for j in range(len(S) + len(D)):\n",
    "                if (i == j):\n",
    "                    l[i].append(-1)\n",
    "                else:\n",
    "                    l[i].append(0)\n",
    "            \n",
    "            for j in range(len(D)):\n",
    "                if ((i - len(S)) == j):\n",
    "                    l[i].append(1)\n",
    "                else:\n",
    "                    l[i].append(0)\n",
    "    return optimize(l, cj)                        #Optimising the matrix to achieve the optimised transport cost"
   ]
  },
  {
   "cell_type": "markdown",
   "metadata": {},
   "source": [
    "## Test Example 1"
   ]
  },
  {
   "cell_type": "code",
   "execution_count": 8,
   "metadata": {},
   "outputs": [
    {
     "name": "stdout",
     "output_type": "stream",
     "text": [
      "--- 0.0003249645233154297 seconds ---\n",
      "('Optimized Cost = 35.0', [[3, 1.0, 0.0, 1.0, -1.0, 0.0, 1.0, 0.0, 1.0, 0.0, -1.0, 0.0], [0, 3.0, 0.0, 0.0, 0.0, 0.0, 1.0, 1.0, 1.0, 1.0, -1.0, -1.0], [1, 2.0, 1.0, 0.0, 1.0, 0.0, 0.0, 0.0, -1.0, 0.0, 1.0, 0.0], [5, 6.0, 0.0, 0.0, 1.0, 1.0, 0.0, 1.0, 0.0, 0.0, 0.0, 0.0]])\n"
     ]
    }
   ],
   "source": [
    "S = [3, 6]\n",
    "D = [2, 4]\n",
    "Dist = [[1, 3], [2, 5]]\n",
    "print(Simplex(S, D, Dist))"
   ]
  },
  {
   "cell_type": "markdown",
   "metadata": {},
   "source": [
    "## Test Example 2"
   ]
  },
  {
   "cell_type": "code",
   "execution_count": 7,
   "metadata": {},
   "outputs": [
    {
     "name": "stdout",
     "output_type": "stream",
     "text": [
      "--- 0.0023012161254882812 seconds ---\n",
      "('Optimized Cost = 142.0', [[0, 0.0, 0.0, 0.0, 0.0, 0.0, 0.0, 0.0, 0.0, 0.0, 0.0, 0.0, 0.0, 0.0, 0.0, 0.0, 0.0, 0.0, 0.0, 0.0, 0.0, 0.0, 1.0, 1.0, 1.0, 1.0, 1.0, 1.0, 1.0, 1.0, 1.0, -1.0, -1.0, -1.0, -1.0, -1.0], [3, 0.0, 0.0, 0.0, -1.0, -1.0, -1.0, 1.0, 1.0, 0.0, 0.0, 0.0, 1.0, 1.0, 0.0, 0.0, 0.0, 1.0, 1.0, 0.0, 0.0, 0.0, -1.0, 0.0, 0.0, 0.0, -1.0, -1.0, 0.0, 0.0, 0.0, 1.0, 1.0, 0.0, 0.0, 0.0], [5, 6.0, 0.0, 0.0, 0.0, -1.0, -1.0, 0.0, 0.0, 0.0, -1.0, -1.0, 1.0, 1.0, 1.0, 0.0, 0.0, 1.0, 1.0, 1.0, 0.0, 0.0, -1.0, -1.0, 0.0, 0.0, -1.0, -1.0, -1.0, 0.0, 0.0, 1.0, 1.0, 1.0, 0.0, 0.0], [7, 1.0, 0.0, 0.0, 0.0, 0.0, -1.0, 0.0, 0.0, 0.0, 0.0, -1.0, 0.0, 0.0, 0.0, 0.0, -1.0, 1.0, 1.0, 1.0, 1.0, 0.0, -1.0, -1.0, -1.0, 0.0, -1.0, -1.0, -1.0, -1.0, 0.0, 1.0, 1.0, 1.0, 1.0, 0.0], [1, 3.0, 1.0, 0.0, 0.0, 0.0, 0.0, 1.0, 0.0, 0.0, 0.0, 0.0, 1.0, 0.0, 0.0, 0.0, 0.0, 1.0, 0.0, 0.0, 0.0, 0.0, 0.0, 0.0, 0.0, 0.0, -1.0, 0.0, 0.0, 0.0, 0.0, 1.0, 0.0, 0.0, 0.0, 0.0], [2, 5.0, 0.0, 1.0, 1.0, 1.0, 1.0, -1.0, 0.0, 0.0, 0.0, 0.0, -1.0, 0.0, 0.0, 0.0, 0.0, -1.0, 0.0, 0.0, 0.0, 0.0, 1.0, 0.0, 0.0, 0.0, 1.0, 0.0, 0.0, 0.0, 0.0, -1.0, 0.0, 0.0, 0.0, 0.0], [4, 4.0, 0.0, 0.0, 1.0, 1.0, 1.0, 0.0, 0.0, 1.0, 1.0, 1.0, -1.0, -1.0, 0.0, 0.0, 0.0, -1.0, -1.0, 0.0, 0.0, 0.0, 1.0, 1.0, 0.0, 0.0, 1.0, 1.0, 0.0, 0.0, 0.0, -1.0, -1.0, 0.0, 0.0, 0.0], [6, 6.0, 0.0, 0.0, 0.0, 1.0, 1.0, 0.0, 0.0, 0.0, 1.0, 1.0, 0.0, 0.0, 0.0, 1.0, 1.0, -1.0, -1.0, -1.0, 0.0, 0.0, 1.0, 1.0, 1.0, 0.0, 1.0, 1.0, 1.0, 0.0, 0.0, -1.0, -1.0, -1.0, 0.0, 0.0], [8, 5.0, 0.0, 0.0, 0.0, 0.0, 1.0, 0.0, 0.0, 0.0, 0.0, 1.0, 0.0, 0.0, 0.0, 0.0, 1.0, 0.0, 0.0, 0.0, 0.0, 1.0, 1.0, 1.0, 1.0, 1.0, 1.0, 1.0, 1.0, 1.0, 0.0, -1.0, -1.0, -1.0, -1.0, 0.0]])\n"
     ]
    }
   ],
   "source": [
    "S = [8, 4, 12, 6]\n",
    "D = [3, 5, 10, 7, 5]\n",
    "dist = [[1, 2, 3, 4, 5], [2, 3, 4, 5, 6], [3, 4, 5, 6, 7], [4, 5, 6, 7, 8]]\n",
    "print(Simplex(S, D, dist))"
   ]
  },
  {
   "cell_type": "markdown",
   "metadata": {},
   "source": [
    "## Example mentioned in Scope for Improvements"
   ]
  },
  {
   "cell_type": "code",
   "execution_count": 9,
   "metadata": {},
   "outputs": [
    {
     "name": "stdout",
     "output_type": "stream",
     "text": [
      "--- 0.0022940635681152344 seconds ---\n",
      "('Optimized Cost = 135.16811', [[3, 0.0, 0.0, 1.0, 1.0, 1.0, 0.0, -1.0, 0.0, 0.0, 0.0, -1.0, -1.0, 0.0, 0.0, 0.0, -1.0, -1.0, 0.0, 0.0, 0.0, -1.0, 0.0, -1.0, -1.0, -1.0, 0.0, -1.0, -1.0, -1.0, 0.0, 0.0, 1.0, 1.0, 1.0, 0.0], [0, 0.0, 0.0, 0.0, 0.0, 0.0, 0.0, 0.0, 0.0, 0.0, 0.0, 0.0, 0.0, 0.0, 0.0, 0.0, 0.0, 0.0, 0.0, 0.0, 0.0, 0.0, 1.0, 1.0, 1.0, 1.0, 1.0, 1.0, 1.0, 1.0, 1.0, -1.0, -1.0, -1.0, -1.0, -1.0], [3, 2.0, 0.0, 0.0, -1.0, 0.0, 0.0, 0.0, 0.0, -1.0, 0.0, 0.0, 1.0, 1.0, 0.0, 1.0, 1.0, 0.0, 0.0, -1.0, 0.0, 0.0, 0.0, 0.0, 1.0, 0.0, 0.0, 0.0, 1.0, 0.0, 0.0, 0.0, 0.0, -1.0, 0.0, 0.0], [5.09902, 3.0, 0.0, 0.0, 0.0, 1.0, 0.0, -1.0, -1.0, -1.0, 0.0, -1.0, 0.0, 0.0, 0.0, 1.0, 0.0, 0.0, 0.0, 0.0, 1.0, 0.0, 0.0, -1.0, 0.0, 0.0, 0.0, 0.0, 0.0, -1.0, 0.0, 0.0, 0.0, 0.0, 1.0, 0.0], [5, 3.0, 1.0, 0.0, 0.0, 0.0, 0.0, 1.0, 0.0, 0.0, 0.0, 0.0, 1.0, 0.0, 0.0, 0.0, 0.0, 1.0, 0.0, 0.0, 0.0, 0.0, 0.0, 0.0, 0.0, 0.0, -1.0, 0.0, 0.0, 0.0, 0.0, 1.0, 0.0, 0.0, 0.0, 0.0], [2.82843, 3.0, 0.0, 0.0, 0.0, -1.0, 0.0, 1.0, 1.0, 1.0, 0.0, 1.0, 0.0, 0.0, 0.0, -1.0, 0.0, 1.0, 1.0, 1.0, 0.0, 1.0, 0.0, 1.0, 0.0, 1.0, 0.0, 0.0, 0.0, 1.0, 0.0, 0.0, 0.0, 0.0, -1.0, 0.0], [4.1231, 10.0, 0.0, 0.0, 1.0, 0.0, 0.0, 0.0, 0.0, 1.0, 0.0, 0.0, 0.0, 0.0, 1.0, 0.0, 0.0, 0.0, 0.0, 1.0, 0.0, 0.0, 0.0, 0.0, 0.0, 0.0, 0.0, 0.0, -1.0, 0.0, 0.0, 0.0, 0.0, 1.0, 0.0, 0.0], [5, 4.0, 0.0, 0.0, 0.0, 0.0, 0.0, 1.0, 1.0, 1.0, 1.0, 1.0, 0.0, 0.0, 0.0, 0.0, 0.0, 0.0, 0.0, 0.0, 0.0, 0.0, 0.0, 1.0, 0.0, 0.0, 0.0, 0.0, 0.0, 0.0, 0.0, 0.0, 0.0, 0.0, 0.0, 0.0], [5.830952, 5.0, 0.0, 0.0, 0.0, 0.0, 1.0, 0.0, 0.0, 0.0, 0.0, 1.0, 0.0, 0.0, 0.0, 0.0, 1.0, 0.0, 0.0, 0.0, 0.0, 1.0, 1.0, 1.0, 1.0, 1.0, 1.0, 1.0, 1.0, 1.0, 0.0, -1.0, -1.0, -1.0, -1.0, 0.0]])\n"
     ]
    }
   ],
   "source": [
    "S = [8,4,12,6]\n",
    "D = [3, 5, 10, 7, 5]\n",
    "dist = [[5, 3, 2.236068, 3.60555, 5.830952], \n",
    "        [2.236068, 2.236068, 3, 5, 2], \n",
    "        [3.60555, 3, 4.1231, 5, 3.162278], \n",
    "        [3.162278, 2.82843, 1.41421, 5.09902, 3.60555]]\n",
    "print(Simplex(S, D, dist))"
   ]
  }
 ],
 "metadata": {
  "kernelspec": {
   "display_name": "Python 3",
   "language": "python",
   "name": "python3"
  },
  "language_info": {
   "codemirror_mode": {
    "name": "ipython",
    "version": 3
   },
   "file_extension": ".py",
   "mimetype": "text/x-python",
   "name": "python",
   "nbconvert_exporter": "python",
   "pygments_lexer": "ipython3",
   "version": "3.7.4"
  }
 },
 "nbformat": 4,
 "nbformat_minor": 2
}
